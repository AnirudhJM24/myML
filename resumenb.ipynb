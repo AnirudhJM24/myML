{
  "nbformat": 4,
  "nbformat_minor": 0,
  "metadata": {
    "colab": {
      "name": "resumenb.ipynb",
      "provenance": [],
      "authorship_tag": "ABX9TyNBp3kBJlcMZaxJmdvxYVxM",
      "include_colab_link": true
    },
    "kernelspec": {
      "name": "python3",
      "display_name": "Python 3"
    },
    "language_info": {
      "name": "python"
    }
  },
  "cells": [
    {
      "cell_type": "markdown",
      "metadata": {
        "id": "view-in-github",
        "colab_type": "text"
      },
      "source": [
        "<a href=\"https://colab.research.google.com/github/AnirudhJM24/myML/blob/main/resumenb.ipynb\" target=\"_parent\"><img src=\"https://colab.research.google.com/assets/colab-badge.svg\" alt=\"Open In Colab\"/></a>"
      ]
    },
    {
      "cell_type": "code",
      "metadata": {
        "id": "x3KUBTh3bCtE"
      },
      "source": [
        "import pandas as pd\n",
        "import numpy as np\n",
        "import matplotlib.pyplot as plt\n",
        "import seaborn as sns\n",
        "\n",
        "import nltk\n",
        "from nltk.stem import PorterStemmer, WordNetLemmatizer\n",
        "from nltk.corpus import stopwords\n",
        "\n",
        "import gensim\n",
        "from gensim.utils import simple_preprocess\n",
        "from gensim.parsing.preprocessing import STOPWORDS\n",
        "from sklearn.metrics import classification_report, confusion_matrix"
      ],
      "execution_count": 111,
      "outputs": []
    },
    {
      "cell_type": "code",
      "metadata": {
        "colab": {
          "base_uri": "https://localhost:8080/",
          "height": 202
        },
        "id": "8zpSlFfVbUZZ",
        "outputId": "10005466-f93a-4e8a-b8b4-1c4aa08cb931"
      },
      "source": [
        "rs = pd.read_csv(\"resume.csv\",encoding= 'unicode_escape')\n",
        "rs.head()"
      ],
      "execution_count": 112,
      "outputs": [
        {
          "output_type": "execute_result",
          "data": {
            "text/html": [
              "<div>\n",
              "<style scoped>\n",
              "    .dataframe tbody tr th:only-of-type {\n",
              "        vertical-align: middle;\n",
              "    }\n",
              "\n",
              "    .dataframe tbody tr th {\n",
              "        vertical-align: top;\n",
              "    }\n",
              "\n",
              "    .dataframe thead th {\n",
              "        text-align: right;\n",
              "    }\n",
              "</style>\n",
              "<table border=\"1\" class=\"dataframe\">\n",
              "  <thead>\n",
              "    <tr style=\"text-align: right;\">\n",
              "      <th></th>\n",
              "      <th>resume_id</th>\n",
              "      <th>class</th>\n",
              "      <th>resume_text</th>\n",
              "    </tr>\n",
              "  </thead>\n",
              "  <tbody>\n",
              "    <tr>\n",
              "      <th>0</th>\n",
              "      <td>resume_1</td>\n",
              "      <td>not_flagged</td>\n",
              "      <td>\\rCustomer Service Supervisor/Tier - Isabella ...</td>\n",
              "    </tr>\n",
              "    <tr>\n",
              "      <th>1</th>\n",
              "      <td>resume_2</td>\n",
              "      <td>not_flagged</td>\n",
              "      <td>\\rEngineer / Scientist - IBM Microelectronics ...</td>\n",
              "    </tr>\n",
              "    <tr>\n",
              "      <th>2</th>\n",
              "      <td>resume_3</td>\n",
              "      <td>not_flagged</td>\n",
              "      <td>\\rLTS Software Engineer Computational Lithogra...</td>\n",
              "    </tr>\n",
              "    <tr>\n",
              "      <th>3</th>\n",
              "      <td>resume_4</td>\n",
              "      <td>not_flagged</td>\n",
              "      <td>TUTOR\\rWilliston VT - Email me on Indeed: ind...</td>\n",
              "    </tr>\n",
              "    <tr>\n",
              "      <th>4</th>\n",
              "      <td>resume_5</td>\n",
              "      <td>flagged</td>\n",
              "      <td>\\rIndependent Consultant - Self-employed\\rBurl...</td>\n",
              "    </tr>\n",
              "  </tbody>\n",
              "</table>\n",
              "</div>"
            ],
            "text/plain": [
              "  resume_id        class                                        resume_text\n",
              "0  resume_1  not_flagged  \\rCustomer Service Supervisor/Tier - Isabella ...\n",
              "1  resume_2  not_flagged  \\rEngineer / Scientist - IBM Microelectronics ...\n",
              "2  resume_3  not_flagged  \\rLTS Software Engineer Computational Lithogra...\n",
              "3  resume_4  not_flagged   TUTOR\\rWilliston VT - Email me on Indeed: ind...\n",
              "4  resume_5      flagged  \\rIndependent Consultant - Self-employed\\rBurl..."
            ]
          },
          "metadata": {},
          "execution_count": 112
        }
      ]
    },
    {
      "cell_type": "code",
      "metadata": {
        "id": "QCmq4t6Mcvi7"
      },
      "source": [
        "rs.rename(columns = {'class':'cz'}, inplace = True)"
      ],
      "execution_count": 113,
      "outputs": []
    },
    {
      "cell_type": "code",
      "metadata": {
        "colab": {
          "base_uri": "https://localhost:8080/",
          "height": 202
        },
        "id": "oC69OUntcJ2l",
        "outputId": "c8287cf1-8974-4dce-8727-662174d8bee9"
      },
      "source": [
        "rs.cz = rs.cz.map({'not_flagged':0,'flagged':1})\n",
        "rs.head()"
      ],
      "execution_count": 114,
      "outputs": [
        {
          "output_type": "execute_result",
          "data": {
            "text/html": [
              "<div>\n",
              "<style scoped>\n",
              "    .dataframe tbody tr th:only-of-type {\n",
              "        vertical-align: middle;\n",
              "    }\n",
              "\n",
              "    .dataframe tbody tr th {\n",
              "        vertical-align: top;\n",
              "    }\n",
              "\n",
              "    .dataframe thead th {\n",
              "        text-align: right;\n",
              "    }\n",
              "</style>\n",
              "<table border=\"1\" class=\"dataframe\">\n",
              "  <thead>\n",
              "    <tr style=\"text-align: right;\">\n",
              "      <th></th>\n",
              "      <th>resume_id</th>\n",
              "      <th>cz</th>\n",
              "      <th>resume_text</th>\n",
              "    </tr>\n",
              "  </thead>\n",
              "  <tbody>\n",
              "    <tr>\n",
              "      <th>0</th>\n",
              "      <td>resume_1</td>\n",
              "      <td>0</td>\n",
              "      <td>\\rCustomer Service Supervisor/Tier - Isabella ...</td>\n",
              "    </tr>\n",
              "    <tr>\n",
              "      <th>1</th>\n",
              "      <td>resume_2</td>\n",
              "      <td>0</td>\n",
              "      <td>\\rEngineer / Scientist - IBM Microelectronics ...</td>\n",
              "    </tr>\n",
              "    <tr>\n",
              "      <th>2</th>\n",
              "      <td>resume_3</td>\n",
              "      <td>0</td>\n",
              "      <td>\\rLTS Software Engineer Computational Lithogra...</td>\n",
              "    </tr>\n",
              "    <tr>\n",
              "      <th>3</th>\n",
              "      <td>resume_4</td>\n",
              "      <td>0</td>\n",
              "      <td>TUTOR\\rWilliston VT - Email me on Indeed: ind...</td>\n",
              "    </tr>\n",
              "    <tr>\n",
              "      <th>4</th>\n",
              "      <td>resume_5</td>\n",
              "      <td>1</td>\n",
              "      <td>\\rIndependent Consultant - Self-employed\\rBurl...</td>\n",
              "    </tr>\n",
              "  </tbody>\n",
              "</table>\n",
              "</div>"
            ],
            "text/plain": [
              "  resume_id  cz                                        resume_text\n",
              "0  resume_1   0  \\rCustomer Service Supervisor/Tier - Isabella ...\n",
              "1  resume_2   0  \\rEngineer / Scientist - IBM Microelectronics ...\n",
              "2  resume_3   0  \\rLTS Software Engineer Computational Lithogra...\n",
              "3  resume_4   0   TUTOR\\rWilliston VT - Email me on Indeed: ind...\n",
              "4  resume_5   1  \\rIndependent Consultant - Self-employed\\rBurl..."
            ]
          },
          "metadata": {},
          "execution_count": 114
        }
      ]
    },
    {
      "cell_type": "code",
      "metadata": {
        "colab": {
          "base_uri": "https://localhost:8080/",
          "height": 202
        },
        "id": "ZpXIe97Oc_q9",
        "outputId": "fece527e-838e-4129-832a-1d763b20f54f"
      },
      "source": [
        "rs.drop(['resume_id'],axis='columns',inplace=True)\n",
        "rs.head()"
      ],
      "execution_count": 115,
      "outputs": [
        {
          "output_type": "execute_result",
          "data": {
            "text/html": [
              "<div>\n",
              "<style scoped>\n",
              "    .dataframe tbody tr th:only-of-type {\n",
              "        vertical-align: middle;\n",
              "    }\n",
              "\n",
              "    .dataframe tbody tr th {\n",
              "        vertical-align: top;\n",
              "    }\n",
              "\n",
              "    .dataframe thead th {\n",
              "        text-align: right;\n",
              "    }\n",
              "</style>\n",
              "<table border=\"1\" class=\"dataframe\">\n",
              "  <thead>\n",
              "    <tr style=\"text-align: right;\">\n",
              "      <th></th>\n",
              "      <th>cz</th>\n",
              "      <th>resume_text</th>\n",
              "    </tr>\n",
              "  </thead>\n",
              "  <tbody>\n",
              "    <tr>\n",
              "      <th>0</th>\n",
              "      <td>0</td>\n",
              "      <td>\\rCustomer Service Supervisor/Tier - Isabella ...</td>\n",
              "    </tr>\n",
              "    <tr>\n",
              "      <th>1</th>\n",
              "      <td>0</td>\n",
              "      <td>\\rEngineer / Scientist - IBM Microelectronics ...</td>\n",
              "    </tr>\n",
              "    <tr>\n",
              "      <th>2</th>\n",
              "      <td>0</td>\n",
              "      <td>\\rLTS Software Engineer Computational Lithogra...</td>\n",
              "    </tr>\n",
              "    <tr>\n",
              "      <th>3</th>\n",
              "      <td>0</td>\n",
              "      <td>TUTOR\\rWilliston VT - Email me on Indeed: ind...</td>\n",
              "    </tr>\n",
              "    <tr>\n",
              "      <th>4</th>\n",
              "      <td>1</td>\n",
              "      <td>\\rIndependent Consultant - Self-employed\\rBurl...</td>\n",
              "    </tr>\n",
              "  </tbody>\n",
              "</table>\n",
              "</div>"
            ],
            "text/plain": [
              "   cz                                        resume_text\n",
              "0   0  \\rCustomer Service Supervisor/Tier - Isabella ...\n",
              "1   0  \\rEngineer / Scientist - IBM Microelectronics ...\n",
              "2   0  \\rLTS Software Engineer Computational Lithogra...\n",
              "3   0   TUTOR\\rWilliston VT - Email me on Indeed: ind...\n",
              "4   1  \\rIndependent Consultant - Self-employed\\rBurl..."
            ]
          },
          "metadata": {},
          "execution_count": 115
        }
      ]
    },
    {
      "cell_type": "code",
      "metadata": {
        "id": "_MVFBcwufgm_"
      },
      "source": [
        "rs['resume_text'] = rs['resume_text'].apply(lambda x: x.replace('\\r',''))"
      ],
      "execution_count": 116,
      "outputs": []
    },
    {
      "cell_type": "code",
      "metadata": {
        "colab": {
          "base_uri": "https://localhost:8080/"
        },
        "id": "73H7GUARgrb3",
        "outputId": "da131d9e-7135-4a36-b5cf-00c3df3f74e1"
      },
      "source": [
        "nltk.download('punkt')\n",
        "nltk.download(\"stopwords\")"
      ],
      "execution_count": 117,
      "outputs": [
        {
          "output_type": "stream",
          "name": "stdout",
          "text": [
            "[nltk_data] Downloading package punkt to /root/nltk_data...\n",
            "[nltk_data]   Package punkt is already up-to-date!\n",
            "[nltk_data] Downloading package stopwords to /root/nltk_data...\n",
            "[nltk_data]   Package stopwords is already up-to-date!\n"
          ]
        },
        {
          "output_type": "execute_result",
          "data": {
            "text/plain": [
              "True"
            ]
          },
          "metadata": {},
          "execution_count": 117
        }
      ]
    },
    {
      "cell_type": "code",
      "metadata": {
        "id": "x_UdCBJPiitZ"
      },
      "source": [
        "from nltk.corpus import stopwords\n",
        "stop_words = stopwords.words('english')"
      ],
      "execution_count": 118,
      "outputs": []
    },
    {
      "cell_type": "code",
      "metadata": {
        "id": "x122SGktiljE"
      },
      "source": [
        "def preprocess(text):\n",
        "    result = []\n",
        "    for token in gensim.utils.simple_preprocess(text) :\n",
        "        if token not in gensim.parsing.preprocessing.STOPWORDS and len(token) > 2 and token not in stop_words:\n",
        "            result.append(token)\n",
        "            \n",
        "    return ' '.join(result)"
      ],
      "execution_count": 119,
      "outputs": []
    },
    {
      "cell_type": "code",
      "metadata": {
        "id": "OgdvXu6yios-"
      },
      "source": [
        "rs['resume_text'] = rs['resume_text'].apply(preprocess)"
      ],
      "execution_count": 120,
      "outputs": []
    },
    {
      "cell_type": "code",
      "metadata": {
        "colab": {
          "base_uri": "https://localhost:8080/"
        },
        "id": "Vj5hIJ3ZjRAi",
        "outputId": "50816518-1132-422c-d3ce-c91f0ab463ad"
      },
      "source": [
        "rs['resume_text'].head()"
      ],
      "execution_count": 121,
      "outputs": [
        {
          "output_type": "execute_result",
          "data": {
            "text/plain": [
              "0    customer service supervisor tier isabella cata...\n",
              "1    engineer scientist ibm email com albert gregor...\n",
              "2    lts software engineer computational lithograph...\n",
              "3    tutorwilliston email com alec schwartz awork c...\n",
              "4    independent consultant self email com alex reu...\n",
              "Name: resume_text, dtype: object"
            ]
          },
          "metadata": {},
          "execution_count": 121
        }
      ]
    },
    {
      "cell_type": "code",
      "metadata": {
        "colab": {
          "base_uri": "https://localhost:8080/",
          "height": 202
        },
        "id": "GKa573DQspwt",
        "outputId": "e661b6c5-826f-4045-b1c4-0e9863a35eef"
      },
      "source": [
        "rs.head()"
      ],
      "execution_count": 144,
      "outputs": [
        {
          "output_type": "execute_result",
          "data": {
            "text/html": [
              "<div>\n",
              "<style scoped>\n",
              "    .dataframe tbody tr th:only-of-type {\n",
              "        vertical-align: middle;\n",
              "    }\n",
              "\n",
              "    .dataframe tbody tr th {\n",
              "        vertical-align: top;\n",
              "    }\n",
              "\n",
              "    .dataframe thead th {\n",
              "        text-align: right;\n",
              "    }\n",
              "</style>\n",
              "<table border=\"1\" class=\"dataframe\">\n",
              "  <thead>\n",
              "    <tr style=\"text-align: right;\">\n",
              "      <th></th>\n",
              "      <th>cz</th>\n",
              "      <th>resume_text</th>\n",
              "    </tr>\n",
              "  </thead>\n",
              "  <tbody>\n",
              "    <tr>\n",
              "      <th>0</th>\n",
              "      <td>0</td>\n",
              "      <td>customer service supervisor tier isabella cata...</td>\n",
              "    </tr>\n",
              "    <tr>\n",
              "      <th>1</th>\n",
              "      <td>0</td>\n",
              "      <td>engineer scientist ibm email com albert gregor...</td>\n",
              "    </tr>\n",
              "    <tr>\n",
              "      <th>2</th>\n",
              "      <td>0</td>\n",
              "      <td>lts software engineer computational lithograph...</td>\n",
              "    </tr>\n",
              "    <tr>\n",
              "      <th>3</th>\n",
              "      <td>0</td>\n",
              "      <td>tutorwilliston email com alec schwartz awork c...</td>\n",
              "    </tr>\n",
              "    <tr>\n",
              "      <th>4</th>\n",
              "      <td>1</td>\n",
              "      <td>independent consultant self email com alex reu...</td>\n",
              "    </tr>\n",
              "  </tbody>\n",
              "</table>\n",
              "</div>"
            ],
            "text/plain": [
              "   cz                                        resume_text\n",
              "0   0  customer service supervisor tier isabella cata...\n",
              "1   0  engineer scientist ibm email com albert gregor...\n",
              "2   0  lts software engineer computational lithograph...\n",
              "3   0  tutorwilliston email com alec schwartz awork c...\n",
              "4   1  independent consultant self email com alex reu..."
            ]
          },
          "metadata": {},
          "execution_count": 144
        }
      ]
    },
    {
      "cell_type": "code",
      "metadata": {
        "colab": {
          "base_uri": "https://localhost:8080/"
        },
        "id": "LuGsK8ydsvh0",
        "outputId": "3b15445a-739d-4f8d-e8a3-974305caf9d0"
      },
      "source": [
        "rs.info()"
      ],
      "execution_count": 147,
      "outputs": [
        {
          "output_type": "stream",
          "name": "stdout",
          "text": [
            "<class 'pandas.core.frame.DataFrame'>\n",
            "RangeIndex: 125 entries, 0 to 124\n",
            "Data columns (total 2 columns):\n",
            " #   Column       Non-Null Count  Dtype \n",
            "---  ------       --------------  ----- \n",
            " 0   cz           125 non-null    int64 \n",
            " 1   resume_text  125 non-null    object\n",
            "dtypes: int64(1), object(1)\n",
            "memory usage: 2.1+ KB\n"
          ]
        }
      ]
    },
    {
      "cell_type": "code",
      "metadata": {
        "id": "hKuk2iKas5hs"
      },
      "source": [
        ""
      ],
      "execution_count": null,
      "outputs": []
    },
    {
      "cell_type": "code",
      "metadata": {
        "id": "p45tOBHNdSiT"
      },
      "source": [
        "from sklearn.model_selection import train_test_split"
      ],
      "execution_count": 122,
      "outputs": []
    },
    {
      "cell_type": "code",
      "metadata": {
        "id": "QXOfvfM2dl4z"
      },
      "source": [
        "atrain,atest,btrain,btest = train_test_split(rs.resume_text,rs.cz,test_size=0.15)"
      ],
      "execution_count": 137,
      "outputs": []
    },
    {
      "cell_type": "code",
      "metadata": {
        "colab": {
          "base_uri": "https://localhost:8080/"
        },
        "id": "vagMJLzmdyzD",
        "outputId": "11557e66-91ef-4203-c4ac-61bf1d748b63"
      },
      "source": [
        "len(atrain)"
      ],
      "execution_count": 138,
      "outputs": [
        {
          "output_type": "execute_result",
          "data": {
            "text/plain": [
              "106"
            ]
          },
          "metadata": {},
          "execution_count": 138
        }
      ]
    },
    {
      "cell_type": "code",
      "metadata": {
        "id": "-z_l0gLVd_vI"
      },
      "source": [
        "from sklearn.feature_extraction.text import CountVectorizer\n",
        "from sklearn.naive_bayes import MultinomialNB"
      ],
      "execution_count": 125,
      "outputs": []
    },
    {
      "cell_type": "code",
      "metadata": {
        "id": "WTIXOEH5d00L"
      },
      "source": [
        "from sklearn.pipeline import Pipeline\n",
        "gb = Pipeline([('vectorizer',CountVectorizer()),('nb',MultinomialNB())])"
      ],
      "execution_count": 126,
      "outputs": []
    },
    {
      "cell_type": "code",
      "metadata": {
        "id": "DOgYkSb7gnIK"
      },
      "source": [
        "atrain = [str (item) for item in atrain]\n",
        "atest = [str (item) for item in atest]"
      ],
      "execution_count": 139,
      "outputs": []
    },
    {
      "cell_type": "code",
      "metadata": {
        "colab": {
          "base_uri": "https://localhost:8080/"
        },
        "id": "A1ltQaSneJwK",
        "outputId": "3c381aff-a6b6-440e-8a40-960bc1fa5319"
      },
      "source": [
        "gb.fit(atrain,btrain)"
      ],
      "execution_count": 140,
      "outputs": [
        {
          "output_type": "execute_result",
          "data": {
            "text/plain": [
              "Pipeline(memory=None,\n",
              "         steps=[('vectorizer',\n",
              "                 CountVectorizer(analyzer='word', binary=False,\n",
              "                                 decode_error='strict',\n",
              "                                 dtype=<class 'numpy.int64'>, encoding='utf-8',\n",
              "                                 input='content', lowercase=True, max_df=1.0,\n",
              "                                 max_features=None, min_df=1,\n",
              "                                 ngram_range=(1, 1), preprocessor=None,\n",
              "                                 stop_words=None, strip_accents=None,\n",
              "                                 token_pattern='(?u)\\\\b\\\\w\\\\w+\\\\b',\n",
              "                                 tokenizer=None, vocabulary=None)),\n",
              "                ('nb',\n",
              "                 MultinomialNB(alpha=1.0, class_prior=None, fit_prior=True))],\n",
              "         verbose=False)"
            ]
          },
          "metadata": {},
          "execution_count": 140
        }
      ]
    },
    {
      "cell_type": "code",
      "metadata": {
        "id": "H2YrLe25kymb"
      },
      "source": [
        "z=gb.predict(atest)"
      ],
      "execution_count": 141,
      "outputs": []
    },
    {
      "cell_type": "code",
      "metadata": {
        "id": "99axZm-rk15b"
      },
      "source": [
        "cm = confusion_matrix(z,btest)\n"
      ],
      "execution_count": 142,
      "outputs": []
    },
    {
      "cell_type": "code",
      "metadata": {
        "colab": {
          "base_uri": "https://localhost:8080/",
          "height": 462
        },
        "id": "Kg3toaVkk9nj",
        "outputId": "ed8cc25f-74b1-473b-ed4c-541122abfb8e"
      },
      "source": [
        "\n",
        "\n",
        "plt.figure(figsize = (15,7))\n",
        "sn.heatmap(cm,annot = True)\n",
        "plt.xlabel('Predicted')\n",
        "plt.ylabel('Truth')"
      ],
      "execution_count": 143,
      "outputs": [
        {
          "output_type": "execute_result",
          "data": {
            "text/plain": [
              "Text(114.0, 0.5, 'Truth')"
            ]
          },
          "metadata": {},
          "execution_count": 143
        },
        {
          "output_type": "display_data",
          "data": {
            "image/png": "[encoded data removed]",
            "text/plain": [
              "<Figure size 1080x504 with 2 Axes>"
            ]
          },
          "metadata": {
            "needs_background": "light"
          }
        }
      ]
    }
  ]
}